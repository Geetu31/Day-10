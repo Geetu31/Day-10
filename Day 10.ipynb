{
 "cells": [
  {
   "cell_type": "code",
   "execution_count": 1,
   "id": "aed36049",
   "metadata": {},
   "outputs": [],
   "source": [
    "\n",
    "# Introduction of functions in python"
   ]
  },
  {
   "cell_type": "code",
   "execution_count": 3,
   "id": "9e73c847",
   "metadata": {},
   "outputs": [
    {
     "name": "stdout",
     "output_type": "stream",
     "text": [
      "The Zen of Python, by Tim Peters\n",
      "\n",
      "Beautiful is better than ugly.\n",
      "Explicit is better than implicit.\n",
      "Simple is better than complex.\n",
      "Complex is better than complicated.\n",
      "Flat is better than nested.\n",
      "Sparse is better than dense.\n",
      "Readability counts.\n",
      "Special cases aren't special enough to break the rules.\n",
      "Although practicality beats purity.\n",
      "Errors should never pass silently.\n",
      "Unless explicitly silenced.\n",
      "In the face of ambiguity, refuse the temptation to guess.\n",
      "There should be one-- and preferably only one --obvious way to do it.\n",
      "Although that way may not be obvious at first unless you're Dutch.\n",
      "Now is better than never.\n",
      "Although never is often better than *right* now.\n",
      "If the implementation is hard to explain, it's a bad idea.\n",
      "If the implementation is easy to explain, it may be a good idea.\n",
      "Namespaces are one honking great idea -- let's do more of those!\n"
     ]
    }
   ],
   "source": [
    "import this"
   ]
  },
  {
   "cell_type": "code",
   "execution_count": 5,
   "id": "4024685b",
   "metadata": {},
   "outputs": [],
   "source": [
    "#create a greet function"
   ]
  },
  {
   "cell_type": "code",
   "execution_count": 11,
   "id": "40dcf280",
   "metadata": {},
   "outputs": [
    {
     "name": "stdout",
     "output_type": "stream",
     "text": [
      "hello\n"
     ]
    }
   ],
   "source": [
    "def greet():\n",
    "    \"\"\"creating a greet function\"\"\"\n",
    "    print(\"hello\")"
   ]
  },
  {
   "cell_type": "raw",
   "id": "ed011b79",
   "metadata": {},
   "source": [
    "\n"
   ]
  },
  {
   "cell_type": "code",
   "execution_count": 13,
   "id": "86f22e2c",
   "metadata": {},
   "outputs": [],
   "source": [
    "greet()   # function call"
   ]
  },
  {
   "cell_type": "code",
   "execution_count": 10,
   "id": "991c9ac7",
   "metadata": {},
   "outputs": [
    {
     "name": "stdout",
     "output_type": "stream",
     "text": [
      "hello\n"
     ]
    }
   ],
   "source": [
    "greet()"
   ]
  },
  {
   "cell_type": "code",
   "execution_count": 14,
   "id": "f5945cfc",
   "metadata": {},
   "outputs": [],
   "source": [
    "#req: create a function to greet the user that we are passing to the function"
   ]
  },
  {
   "cell_type": "code",
   "execution_count": 20,
   "id": "862f906a",
   "metadata": {},
   "outputs": [],
   "source": [
    "def greetuser(username):\n",
    "    \"\"\"create the fun to greet the user\"\"\"   # argumant passing\n",
    "    print(f\"Hello,{username.title()}\")\n",
    "              \n"
   ]
  },
  {
   "cell_type": "code",
   "execution_count": 21,
   "id": "2c10a02d",
   "metadata": {},
   "outputs": [
    {
     "name": "stdout",
     "output_type": "stream",
     "text": [
      "Hello,Geetika\n"
     ]
    }
   ],
   "source": [
    "greetuser(\"geetika\")"
   ]
  },
  {
   "cell_type": "code",
   "execution_count": 22,
   "id": "d4e11d03",
   "metadata": {},
   "outputs": [
    {
     "name": "stdout",
     "output_type": "stream",
     "text": [
      "Hello,Anup\n"
     ]
    }
   ],
   "source": [
    "greetuser(\"Anup\")"
   ]
  },
  {
   "cell_type": "code",
   "execution_count": 23,
   "id": "7ac5ddf1",
   "metadata": {},
   "outputs": [],
   "source": [
    "# Types of arguments"
   ]
  },
  {
   "cell_type": "code",
   "execution_count": 24,
   "id": "4315ac38",
   "metadata": {},
   "outputs": [],
   "source": [
    "# create a describe_pet fun which takes two parameters: 1.animaltype 2.petname"
   ]
  },
  {
   "cell_type": "code",
   "execution_count": 26,
   "id": "094a974b",
   "metadata": {},
   "outputs": [],
   "source": [
    "def describe_pet(animaltype,petname):\n",
    "    \"\"\"creating a pet function for describing the animals\"\"\"\n",
    "    print(f\"I have a {animaltype}\")\n",
    "    print(f\"my {animaltype}'s name is {petname}\")"
   ]
  },
  {
   "cell_type": "code",
   "execution_count": 28,
   "id": "a050cf4c",
   "metadata": {},
   "outputs": [
    {
     "name": "stdout",
     "output_type": "stream",
     "text": [
      "I have a dog\n",
      "my dog's name is rex\n"
     ]
    }
   ],
   "source": [
    "describe_pet('dog','rex')"
   ]
  },
  {
   "cell_type": "code",
   "execution_count": 29,
   "id": "49770061",
   "metadata": {},
   "outputs": [
    {
     "name": "stdout",
     "output_type": "stream",
     "text": [
      "I have a cat\n",
      "my cat's name is fari\n"
     ]
    }
   ],
   "source": [
    "describe_pet('cat','fari')"
   ]
  },
  {
   "cell_type": "code",
   "execution_count": 30,
   "id": "79863a10",
   "metadata": {},
   "outputs": [
    {
     "name": "stdout",
     "output_type": "stream",
     "text": [
      "I have a fish\n",
      "my fish's name is goldy\n"
     ]
    }
   ],
   "source": [
    "describe_pet(petname='goldy',animaltype = 'fish')"
   ]
  },
  {
   "cell_type": "code",
   "execution_count": 31,
   "id": "56459c0f",
   "metadata": {},
   "outputs": [],
   "source": [
    "#keyword arguments."
   ]
  },
  {
   "cell_type": "code",
   "execution_count": 33,
   "id": "e057702b",
   "metadata": {},
   "outputs": [
    {
     "name": "stdout",
     "output_type": "stream",
     "text": [
      "I have a x\n",
      "my x's name is y\n"
     ]
    }
   ],
   "source": [
    "describe_pet('x','y')"
   ]
  },
  {
   "cell_type": "code",
   "execution_count": 34,
   "id": "ecbfe89e",
   "metadata": {},
   "outputs": [],
   "source": [
    "def describe_pet(petname,animaltype = 'dog'):\n",
    "    \"\"\"creating a pet function for describing the animals\"\"\"\n",
    "    print(f\"I have a {animaltype}\")\n",
    "    print(f\"my {animaltype}'s name is {petname}\")"
   ]
  },
  {
   "cell_type": "code",
   "execution_count": 35,
   "id": "16a39d9b",
   "metadata": {},
   "outputs": [
    {
     "name": "stdout",
     "output_type": "stream",
     "text": [
      "I have a dog\n",
      "my dog's name is bruno\n"
     ]
    }
   ],
   "source": [
    "describe_pet('bruno')"
   ]
  },
  {
   "cell_type": "code",
   "execution_count": 36,
   "id": "73e8fa60",
   "metadata": {},
   "outputs": [
    {
     "ename": "SyntaxError",
     "evalue": "non-default argument follows default argument (<ipython-input-36-3d3f4a6d4843>, line 1)",
     "output_type": "error",
     "traceback": [
      "\u001b[0;36m  File \u001b[0;32m\"<ipython-input-36-3d3f4a6d4843>\"\u001b[0;36m, line \u001b[0;32m1\u001b[0m\n\u001b[0;31m    def describe_pet(animaltype = 'dog',petname):\u001b[0m\n\u001b[0m                    ^\u001b[0m\n\u001b[0;31mSyntaxError\u001b[0m\u001b[0;31m:\u001b[0m non-default argument follows default argument\n"
     ]
    }
   ],
   "source": [
    "def describe_pet(animaltype = 'dog',petname):\n",
    "    \"\"\"creating a pet function for describing the animals\"\"\"\n",
    "    print(f\"I have a {animaltype}\")\n",
    "    print(f\"my {animaltype}'s name is {petname}\")"
   ]
  },
  {
   "cell_type": "code",
   "execution_count": 37,
   "id": "c277746d",
   "metadata": {},
   "outputs": [
    {
     "name": "stdout",
     "output_type": "stream",
     "text": [
      "I have a rabbit\n",
      "my rabbit's name is teenu\n"
     ]
    }
   ],
   "source": [
    "describe_pet(\"teenu\",\"rabbit\")"
   ]
  },
  {
   "cell_type": "code",
   "execution_count": null,
   "id": "41b77b08",
   "metadata": {},
   "outputs": [],
   "source": []
  }
 ],
 "metadata": {
  "kernelspec": {
   "display_name": "Python 3",
   "language": "python",
   "name": "python3"
  },
  "language_info": {
   "codemirror_mode": {
    "name": "ipython",
    "version": 3
   },
   "file_extension": ".py",
   "mimetype": "text/x-python",
   "name": "python",
   "nbconvert_exporter": "python",
   "pygments_lexer": "ipython3",
   "version": "3.6.13"
  }
 },
 "nbformat": 4,
 "nbformat_minor": 5
}
